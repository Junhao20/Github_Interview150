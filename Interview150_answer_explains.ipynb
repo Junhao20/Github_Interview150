{
 "cells": [
  {
   "cell_type": "markdown",
   "metadata": {},
   "source": [
    "# Python review\n",
    "## Leetcode interview 150, my solutions:\n",
    "## First part, lists:"
   ]
  },
  {
   "cell_type": "code",
   "execution_count": 1,
   "metadata": {},
   "outputs": [
    {
     "data": {
      "text/plain": [
       "5"
      ]
     },
     "execution_count": 1,
     "metadata": {},
     "output_type": "execute_result"
    }
   ],
   "source": [
    "# Medium Q1: \n",
    "# Test case 1:\n",
    "# Question: Given an integer array nums sorted in non-decreasing order, remove some duplicates in-place such that each unique element appears at most twice. The relative order of the elements should be kept the same.\n",
    "\n",
    "# Since it is impossible to change the length of the array in some languages, you must instead have the result be placed in the first part of the array nums.\n",
    "# More formally, if there are k elements after removing the duplicates, then the first k elements of nums should hold the final result. It does not matter what you leave beyond the first k elements.\n",
    "# Return k after placing the final result in the first k slots of nums.\n",
    "# Do not allocate extra space for another array. You must do this by modifying the input array in-place with O(1) extra memory.\n",
    "\n",
    "\n",
    "# example: [1,1,1,2,2,3,3,3] --> keep 2 same numbers --> result = [1,1,2,2,3,3], so the k = 6\n",
    "\n",
    "nums = [1,1,1,2,2,3] # assume this is our list\n",
    "\n",
    "def removeDuplicates(nums):\n",
    "    index = 1 \n",
    "    # set the initial index\n",
    "    # the reason for us to set as 1, is because we do need to take a step back to see the duplicates\n",
    "    count = 1 \n",
    "    # set the count, you run a number, you earn a count, so the smallest count number should be 1\n",
    "    while index < len(nums):\n",
    "        # we will keep the index in range  \n",
    "        if nums[index] == nums[index - 1]:\n",
    "            # compare with the previous number\n",
    "            count += 1\n",
    "            # if there is a duplicate, yes we do allow count = 1, which means that there is ONE same number\n",
    "            if count > 2:\n",
    "                # we don't want TWO, so if count is over 2, we will remove that number once\n",
    "                nums.pop(index)\n",
    "                # remove once\n",
    "                index -= 1\n",
    "                # change the index\n",
    "                count -= 1\n",
    "                # get count back to one\n",
    "        else:\n",
    "            count = 1\n",
    "        index += 1\n",
    "    return len(nums)\n",
    "# It is important for us to know what are we finding, we want to count the final list's numbers, so we will return len(nums)\n",
    "\n",
    "removeDuplicates(nums)"
   ]
  },
  {
   "cell_type": "code",
   "execution_count": 2,
   "metadata": {},
   "outputs": [
    {
     "data": {
      "text/plain": [
       "6"
      ]
     },
     "execution_count": 2,
     "metadata": {},
     "output_type": "execute_result"
    }
   ],
   "source": [
    "# Lets see the example:\n",
    "example_num = [1,1,1,2,2,3,3,3]\n",
    "removeDuplicates(example_num)\n",
    "# And yes, we do see the k = 6"
   ]
  },
  {
   "cell_type": "markdown",
   "metadata": {},
   "source": [
    "## Let's see something even interesting\n",
    "\n",
    "Given an array nums of size n, return the majority element.\n",
    "The majority element is the element that appears more than ⌊n / 2⌋ times. You may assume that the majority element always exists in the array."
   ]
  },
  {
   "cell_type": "code",
   "execution_count": null,
   "metadata": {},
   "outputs": [
    {
     "data": {
      "text/plain": [
       "2"
      ]
     },
     "execution_count": 7,
     "metadata": {},
     "output_type": "execute_result"
    }
   ],
   "source": [
    "nums = [2,2,1,1,1,2,2]\n",
    "def majorityElement(nums):\n",
    "    # so we need two elements, the candidate (what we are looking for) and the count\n",
    "    candidate, count = None, 0\n",
    "    # for majority, we only need to look for the number, which been listed the most\n",
    "    for num in nums:\n",
    "        if count == 0:\n",
    "            candidate = num\n",
    "            count += 1 if num == candidate else -1 \n",
    "    return candidate\n",
    "\n",
    "majorityElement(nums) "
   ]
  },
  {
   "cell_type": "markdown",
   "metadata": {},
   "source": [
    "For example, this list, we have:\n",
    "2, 2, 1, 1, 1, 2, 2\n",
    "\n",
    "now we convert into counts:\n",
    "\n",
    "0, 1, 0, 1, 2, 1, 0 \n",
    "\n",
    "Start from 2, at this point 2's count is 0, so 2 is the candidate, the we have another 2, which make count goes to 1/\n",
    "1 is different from 2, so count - 1 = 0, so now 1 is the candidate, and it went up to 2. \n",
    "Finally, we have two twos. Right now, the candidate is still 1, so we are going to compare 2 with 1. Consequently, we have 2 - 1 - 1 = 0. So the candidate is 2.\n",
    "If we don't have the final \"2\", for example, the list looks like this: 2, 2, 1, 1, 1, 2. Now let's count:\n",
    "0, 1, 0, 1, 2, 1. We can see that 0 is pointing to 1 at this time. So as long as we can find 0, then we will find the candidate."
   ]
  },
  {
   "cell_type": "code",
   "execution_count": null,
   "metadata": {},
   "outputs": [
    {
     "data": {
      "text/plain": [
       "2"
      ]
     },
     "execution_count": 8,
     "metadata": {},
     "output_type": "execute_result"
    }
   ],
   "source": [
    "# This is a more understandable way to write the code. but the previous chunk looks more simple and neat.\n",
    "def majority(sum):\n",
    "    candidate = None\n",
    "    count = 0\n",
    "    for num in nums:\n",
    "        if count == 0:\n",
    "            candidate = num\n",
    "            if num == candidate:\n",
    "                count += 1\n",
    "            else:\n",
    "                count -= 1\n",
    "    return candidate\n",
    "\n",
    "majority(nums)"
   ]
  }
 ],
 "metadata": {
  "kernelspec": {
   "display_name": "base",
   "language": "python",
   "name": "python3"
  },
  "language_info": {
   "codemirror_mode": {
    "name": "ipython",
    "version": 3
   },
   "file_extension": ".py",
   "mimetype": "text/x-python",
   "name": "python",
   "nbconvert_exporter": "python",
   "pygments_lexer": "ipython3",
   "version": "3.11.4"
  }
 },
 "nbformat": 4,
 "nbformat_minor": 2
}
