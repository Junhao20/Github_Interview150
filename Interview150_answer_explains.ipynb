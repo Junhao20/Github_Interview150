{
 "cells": [
  {
   "cell_type": "markdown",
   "metadata": {},
   "source": [
    "# Python review\n",
    "## Leetcode interview 150, my solutions:"
   ]
  },
  {
   "cell_type": "code",
   "execution_count": null,
   "metadata": {},
   "outputs": [
    {
     "data": {
      "text/plain": [
       "5"
      ]
     },
     "execution_count": 15,
     "metadata": {},
     "output_type": "execute_result"
    }
   ],
   "source": [
    "# Medium Q1: \n",
    "# Test case 1:\n",
    "# Question: Given an integer array nums sorted in non-decreasing order, remove some duplicates in-place such that each unique element appears at most twice. The relative order of the elements should be kept the same.\n",
    "\n",
    "# Since it is impossible to change the length of the array in some languages, you must instead have the result be placed in the first part of the array nums.\n",
    "# More formally, if there are k elements after removing the duplicates, then the first k elements of nums should hold the final result. It does not matter what you leave beyond the first k elements.\n",
    "# Return k after placing the final result in the first k slots of nums.\n",
    "# Do not allocate extra space for another array. You must do this by modifying the input array in-place with O(1) extra memory.\n",
    "\n",
    "\n",
    "# example: [1,1,1,2,2,3,3,3] --> keep 2 same numbers --> result = [1,1,2,2,3,3], so the k = 6\n",
    "\n",
    "nums = [1,1,1,2,2,3] # assume this is our list\n",
    "\n",
    "def removeDuplicates(nums):\n",
    "    index = 1 \n",
    "    # set the initial index\n",
    "    # the reason for us to set as 1, is because we do need to take a step back to see the duplicates\n",
    "    count = 1 \n",
    "    # set the count, you run a number, you earn a count, so the smallest count number should be 1\n",
    "    while index < len(nums):\n",
    "        # we will keep the index in range  \n",
    "        if nums[index] == nums[index - 1]:\n",
    "            # compare with the previous number\n",
    "            count += 1\n",
    "            # if there is a duplicate, yes we do allow count = 1, which means that there is ONE same number\n",
    "            if count > 2:\n",
    "                # we don't want TWO, so if count is over 2, we will remove that number once\n",
    "                nums.pop(index)\n",
    "                # remove once\n",
    "                index -= 1\n",
    "                # change the index\n",
    "                count -= 1\n",
    "                # get count back to one\n",
    "        else:\n",
    "            count = 1\n",
    "        index += 1\n",
    "    return len(nums)\n",
    "# It is important for us to know what are we finding, we want to count the final list's numbers, so we will return len(nums)\n",
    "\n",
    "removeDuplicates(nums)"
   ]
  },
  {
   "cell_type": "code",
   "execution_count": null,
   "metadata": {},
   "outputs": [
    {
     "data": {
      "text/plain": [
       "6"
      ]
     },
     "execution_count": 16,
     "metadata": {},
     "output_type": "execute_result"
    }
   ],
   "source": [
    "# Lets see the example:\n",
    "example_num = [1,1,1,2,2,3,3,3]\n",
    "removeDuplicates(example_num)\n",
    "# And yes, we do see the k = 6"
   ]
  }
 ],
 "metadata": {
  "kernelspec": {
   "display_name": "base",
   "language": "python",
   "name": "python3"
  },
  "language_info": {
   "codemirror_mode": {
    "name": "ipython",
    "version": 3
   },
   "file_extension": ".py",
   "mimetype": "text/x-python",
   "name": "python",
   "nbconvert_exporter": "python",
   "pygments_lexer": "ipython3",
   "version": "3.11.4"
  }
 },
 "nbformat": 4,
 "nbformat_minor": 2
}
